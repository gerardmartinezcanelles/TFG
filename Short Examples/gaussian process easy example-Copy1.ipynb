{
 "cells": [
  {
   "cell_type": "markdown",
   "metadata": {},
   "source": [
    "## GP example"
   ]
  },
  {
   "cell_type": "markdown",
   "metadata": {},
   "source": [
    "We are going to provide an easy example to understand all the steps that are necessary to make an accurate prediction using Gaussian processes regression. "
   ]
  },
  {
   "cell_type": "code",
   "execution_count": 1,
   "metadata": {
    "collapsed": true
   },
   "outputs": [],
   "source": [
    "import numpy as np\n",
    "from matplotlib import pyplot as plt\n",
    "\n",
    "from sklearn.gaussian_process import GaussianProcessRegressor\n",
    "from sklearn.gaussian_process.kernels \\\n",
    "    import RBF, WhiteKernel, RationalQuadratic, ExpSineSquared\n",
    "from sklearn.datasets import fetch_mldata"
   ]
  },
  {
   "cell_type": "code",
   "execution_count": 2,
   "metadata": {
    "collapsed": true
   },
   "outputs": [],
   "source": [
    "x=np.array([-2.5,-1.50,-0.5,0.75,1.95,2.8])\n",
    "y=np.array([-0.6,-0.1,0.3,0.45,0.6,0.75])"
   ]
  },
  {
   "cell_type": "code",
   "execution_count": 54,
   "metadata": {},
   "outputs": [
    {
     "name": "stdout",
     "output_type": "stream",
     "text": [
      "[-2.5  -1.5  -0.5   0.75  1.95  2.8 ]\n",
      "[-0.6  -0.1   0.3   0.45  0.6   0.75]\n"
     ]
    },
    {
     "data": {
      "image/png": "[encoded data removed]",
      "text/plain": [
       "<matplotlib.figure.Figure at 0x112d27cd0>"
      ]
     },
     "metadata": {},
     "output_type": "display_data"
    }
   ],
   "source": [
    "print x\n",
    "print y\n",
    "e = 0.1*np.ones(6)\n",
    "plt.figure(figsize=(10,8))\n",
    "plt.scatter(x, y)\n",
    "plt.scatter(3.2,0.8,color='green')\n",
    "plt.errorbar(x, y, yerr=e, fmt='o')\n",
    "plt.errorbar(3.2, 0.8, yerr=0.1, fmt='o',color='green')\n",
    "plt.annotate('?', xy=(3.2, 0.8), xytext=(3.4, 0.5),\n",
    "            arrowprops=dict(facecolor='green', width=0.1,headwidth=4.0,shrink=0.20),\n",
    "            )\n",
    "plt.show()"
   ]
  },
  {
   "cell_type": "markdown",
   "metadata": {},
   "source": [
    "Given six data points we are interested in estimating a seventh at x∗ = 3.2.\n",
    "\n",
    "What relates one observation to another in such cases is just the covariance function, k(x, x'). A popular choice is the squared exponential."
   ]
  },
  {
   "cell_type": "code",
   "execution_count": 33,
   "metadata": {
    "collapsed": true
   },
   "outputs": [],
   "source": [
    "# Kernel with parameters randomly initialized \n",
    "k1 = 1.0**2 * RBF(length_scale=2.0) + 0.1*WhiteKernel(noise_level=0.2**2)  # noise terms\n",
    "kernel_gpml = k1 \n",
    "\n",
    "gp = GaussianProcessRegressor(kernel=kernel_gpml, alpha=0,\n",
    "                              optimizer='fmin_l_bfgs_b', n_restarts_optimizer=1, normalize_y=True)"
   ]
  },
  {
   "cell_type": "code",
   "execution_count": 44,
   "metadata": {
    "collapsed": true
   },
   "outputs": [],
   "source": [
    "def kernelvar(x,x1,variance,lengthscale,sigma):\n",
    "    val=variance*np.exp(-(x-x1)**2/float(2*lengthscale**2))\n",
    "    if np.abs(x-x1)<=(1e-4):\n",
    "        val=val+sigma\n",
    "    return val"
   ]
  },
  {
   "cell_type": "markdown",
   "metadata": {},
   "source": [
    "We are going to consider that the noise of our data is σn^{2} = 0.1. With judicious choices of σf and l (more\n",
    "on this later), we have enough to calculate a covariance matrix using:"
   ]
  },
  {
   "cell_type": "code",
   "execution_count": 45,
   "metadata": {
    "collapsed": true
   },
   "outputs": [],
   "source": [
    "K=np.zeros((6,6))\n",
    "for i in np.arange(x.shape[0]):\n",
    "    for j in np.arange(x.shape[0]):\n",
    "        K[i][j]=kernelvar(x[i],x[j],1.5,2.0,0.1)"
   ]
  },
  {
   "cell_type": "code",
   "execution_count": 46,
   "metadata": {},
   "outputs": [
    {
     "name": "stdout",
     "output_type": "stream",
     "text": [
      "[[ 1.6         1.32374535  0.90979599  0.40057775  0.12620504  0.04478935]\n",
      " [ 1.32374535  1.6         1.32374535  0.79664399  0.3387993   0.14870588]\n",
      " [ 0.90979599  1.32374535  1.6         1.23386634  0.70832844  0.38451023]\n",
      " [ 0.40057775  0.79664399  1.23386634  1.6         1.25290532  0.8870558 ]\n",
      " [ 0.12620504  0.3387993   0.70832844  1.25290532  1.6         1.37046844]\n",
      " [ 0.04478935  0.14870588  0.38451023  0.8870558   1.37046844  1.6       ]]\n"
     ]
    }
   ],
   "source": [
    "print K"
   ]
  },
  {
   "cell_type": "markdown",
   "metadata": {},
   "source": [
    "We also have to determine $K^{*}$ and $K^{**}$"
   ]
  },
  {
   "cell_type": "code",
   "execution_count": 47,
   "metadata": {
    "collapsed": true
   },
   "outputs": [],
   "source": [
    "Kt=np.zeros(6)\n",
    "for i in np.arange(x.shape[0]):\n",
    "    Kt[i]=kernelvar(3.2,x[i],1.5,2.0,0.1)"
   ]
  },
  {
   "cell_type": "code",
   "execution_count": 48,
   "metadata": {},
   "outputs": [
    {
     "name": "stdout",
     "output_type": "stream",
     "text": [
      "[ 0.02584121  0.09481905  0.27095978  0.70832844  1.23386634  1.47029801]\n"
     ]
    }
   ],
   "source": [
    "print Kt"
   ]
  },
  {
   "cell_type": "code",
   "execution_count": 49,
   "metadata": {},
   "outputs": [
    {
     "name": "stdout",
     "output_type": "stream",
     "text": [
      "1.6\n"
     ]
    }
   ],
   "source": [
    "Ktest=kernelvar(3.2,3.2,1.5,2.0,0.1)\n",
    "print Ktest"
   ]
  },
  {
   "cell_type": "markdown",
   "metadata": {},
   "source": [
    "Our best estimate for $y^{∗}$ is the mean of this distribution:\n",
    "$$y_{∗}=K^{*}K^{-1}y $$"
   ]
  },
  {
   "cell_type": "code",
   "execution_count": 50,
   "metadata": {},
   "outputs": [
    {
     "name": "stdout",
     "output_type": "stream",
     "text": [
      "[[ 2.34297674 -2.56023038  0.53037467  0.46721326 -0.22503419 -0.02137222]\n",
      " [-2.56023038  5.15942136 -3.16591154  0.22732796  0.52042943 -0.21882785]\n",
      " [ 0.53037467 -3.16591154  4.80361281 -2.70692257  0.32171652  0.35017831]\n",
      " [ 0.46721326  0.22732796 -2.70692257  4.35452873 -2.84058407  0.63520568]\n",
      " [-0.22503419  0.52042943  0.32171652 -2.84058407  5.13572863 -2.94350782]\n",
      " [-0.02137222 -0.21882785  0.35017831  0.63520568 -2.94350782  2.73085799]]\n",
      "[-0.01664828  0.04663839  0.00953405 -0.18636164  0.12760624  0.90679699]\n",
      "0.680984094323\n"
     ]
    }
   ],
   "source": [
    "from numpy.linalg import inv\n",
    "\n",
    "Kinv=inv(K)\n",
    "print Kinv\n",
    "yprev=np.dot(Kt,Kinv)\n",
    "print yprev\n",
    "ymean=np.dot(yprev,y)\n",
    "print ymean"
   ]
  },
  {
   "cell_type": "markdown",
   "metadata": {},
   "source": [
    "And the uncertainty in our estimate is captured in its variance:\n",
    "\n",
    "$$ var(y_{*}) = K^{**}-K^{*}K^{-1}K^{T}_{*} $$"
   ]
  },
  {
   "cell_type": "code",
   "execution_count": 51,
   "metadata": {},
   "outputs": [
    {
     "name": "stdout",
     "output_type": "stream",
     "text": [
      "1.36528094322\n",
      "0.234719056782\n"
     ]
    }
   ],
   "source": [
    "varprev=np.dot(np.dot(Kt,Kinv),np.transpose(Kt))\n",
    "print varprev\n",
    "vary=Ktest-varprev\n",
    "print vary"
   ]
  },
  {
   "cell_type": "code",
   "execution_count": 185,
   "metadata": {},
   "outputs": [
    {
     "data": {
      "image/png": "[encoded data removed]",
      "text/plain": [
       "<matplotlib.figure.Figure at 0x110acca10>"
      ]
     },
     "metadata": {},
     "output_type": "display_data"
    }
   ],
   "source": [
    "x1=np.append(x,[0.4])\n",
    "y1=np.append(y,[ymean])\n",
    "xs=np.array([0.4]).reshape(-1,1)\n",
    "\n",
    "k1 = 1.5**2 * RBF(length_scale=2.0) + 0.1**2*WhiteKernel(noise_level=0.1**2)\n",
    "kernel_gpml = k1\n",
    "\n",
    "gp = GaussianProcessRegressor(kernel=kernel_gpml, alpha=0,\n",
    "                              optimizer='fmin_l_bfgs_b', n_restarts_optimizer=1, normalize_y=True)\n",
    "gp.fit(x.reshape(-1,1),y)\n",
    "X_ = np.linspace(-2.0, 0.5, 1000)[:, np.newaxis]\n",
    "X_1=np.append(x,[0.4])[:, np.newaxis]\n",
    "y_pred, y_std = gp.predict(X_, return_std=True)\n",
    "y_pred1,y_std1=gp.predict(X_1, return_std=True)\n",
    "plt.figure(figsize=(10,8))\n",
    "plt.scatter(x1, y1, c='k')\n",
    "#plt.fill_between(X_1[:, 0], y1 - y_std1, y1 + y_std1,\n",
    "#                 alpha=0.5, color='c')\n",
    "plt.fill_between(X_[:, 0], y_ - 5*y_std, y_pred + 5*y_std,\n",
    "#                 alpha=0.5, color='r')\n",
    "plt.tight_layout()\n",
    "plt.show()"
   ]
  },
  {
   "cell_type": "code",
   "execution_count": 160,
   "metadata": {},
   "outputs": [
    {
     "name": "stdout",
     "output_type": "stream",
     "text": [
      "[ 0.93378625]\n",
      "[ 0.01036407]\n"
     ]
    }
   ],
   "source": [
    "print y_pred1\n",
    "print y_std1"
   ]
  },
  {
   "cell_type": "code",
   "execution_count": 142,
   "metadata": {},
   "outputs": [
    {
     "data": {
      "image/png": "[encoded data removed]",
      "text/plain": [
       "<matplotlib.figure.Figure at 0x1108a4110>"
      ]
     },
     "metadata": {},
     "output_type": "display_data"
    }
   ],
   "source": [
    "e = 0.1*np.ones(6)\n",
    "X_ = np.linspace(-2.0, 1.0, 1000)[:, np.newaxis]\n",
    "plt.figure(figsize=(10,8))\n",
    "plt.scatter(x, y)\n",
    "plt.scatter(0.4,ymean,color='green')\n",
    "plt.errorbar(x, y, yerr=e, fmt='o')\n",
    "plt.errorbar(0.4, ymean, yerr=0.1, fmt='o',color='green')\n",
    "plt.fill_between(X_[:,0], y_pred - y_std, y_pred + y_std,\n",
    "                 alpha=0.5, color='k')\n",
    "plt.show()"
   ]
  },
  {
   "cell_type": "code",
   "execution_count": 84,
   "metadata": {
    "collapsed": true
   },
   "outputs": [],
   "source": [
    "a=np.array([1,2,3])"
   ]
  },
  {
   "cell_type": "code",
   "execution_count": 85,
   "metadata": {},
   "outputs": [
    {
     "data": {
      "text/plain": [
       "array([1, 2, 3])"
      ]
     },
     "execution_count": 85,
     "metadata": {},
     "output_type": "execute_result"
    }
   ],
   "source": [
    "a\n"
   ]
  },
  {
   "cell_type": "code",
   "execution_count": 88,
   "metadata": {},
   "outputs": [
    {
     "data": {
      "text/plain": [
       "array([1, 2, 3, 4])"
      ]
     },
     "execution_count": 88,
     "metadata": {},
     "output_type": "execute_result"
    }
   ],
   "source": [
    "np.append(a,[4])"
   ]
  },
  {
   "cell_type": "code",
   "execution_count": 169,
   "metadata": {},
   "outputs": [
    {
     "name": "stdout",
     "output_type": "stream",
     "text": [
      "[1 1]\n",
      "[[4 1]\n",
      " [2 0]]\n",
      "[6 1]\n"
     ]
    }
   ],
   "source": [
    "a = np.array(([1, 1]))\n",
    "b = np.array(([4, 1], [2, 0]))\n",
    "print a\n",
    "print b\n",
    "print np.dot(a, b)"
   ]
  },
  {
   "cell_type": "code",
   "execution_count": null,
   "metadata": {
    "collapsed": true
   },
   "outputs": [],
   "source": []
  }
 ],
 "metadata": {
  "kernelspec": {
   "display_name": "Python [conda root]",
   "language": "python",
   "name": "conda-root-py"
  },
  "language_info": {
   "codemirror_mode": {
    "name": "ipython",
    "version": 2
   },
   "file_extension": ".py",
   "mimetype": "text/x-python",
   "name": "python",
   "nbconvert_exporter": "python",
   "pygments_lexer": "ipython2",
   "version": "2.7.12"
  }
 },
 "nbformat": 4,
 "nbformat_minor": 2
}
